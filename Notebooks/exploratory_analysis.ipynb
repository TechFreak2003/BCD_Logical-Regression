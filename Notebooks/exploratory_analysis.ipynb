{
 "cells": [
  {
   "cell_type": "markdown",
   "id": "bf1de959",
   "metadata": {},
   "source": [
    "# 🧠 Breast Cancer Diagnosis - Exploratory Data Analysis\n",
    "Exploring the Wisconsin Breast Cancer dataset to identify patterns and prepare it for machine learning."
   ]
  },
  {
   "cell_type": "code",
   "execution_count": null,
   "id": "3b77b26b",
   "metadata": {},
   "outputs": [],
   "source": [
    "import numpy as np\n",
    "import pandas as pd\n",
    "import matplotlib.pyplot as plt\n",
    "import seaborn as sns\n",
    "%matplotlib inline\n",
    "sns.set(style=\"whitegrid\")"
   ]
  },
  {
   "cell_type": "markdown",
   "id": "0e23bbf7",
   "metadata": {},
   "source": [
    "## 📥 Load Dataset"
   ]
  },
  {
   "cell_type": "code",
   "execution_count": null,
   "id": "ccc10f96",
   "metadata": {},
   "outputs": [],
   "source": [
    "df = pd.read_csv(\"data/breast_cancer_data.csv\")\n",
    "print(\"Dataset shape:\", df.shape)\n",
    "df.head()"
   ]
  },
  {
   "cell_type": "markdown",
   "id": "28ce3883",
   "metadata": {},
   "source": [
    "## ℹ️ Data Info & Summary"
   ]
  },
  {
   "cell_type": "code",
   "execution_count": null,
   "id": "f4f41ee3",
   "metadata": {},
   "outputs": [],
   "source": [
    "df.info()\n",
    "df.describe()"
   ]
  },
  {
   "cell_type": "markdown",
   "id": "8b6bdf43",
   "metadata": {},
   "source": [
    "## 🧹 Data Cleaning"
   ]
  },
  {
   "cell_type": "code",
   "execution_count": null,
   "id": "0cb6f0ab",
   "metadata": {},
   "outputs": [],
   "source": [
    "df = df.drop(['id', 'Unnamed: 32'], axis=1)\n",
    "df['diagnosis'] = df['diagnosis'].map({'M': 1, 'B': 0})"
   ]
  },
  {
   "cell_type": "markdown",
   "id": "d8cd9fd4",
   "metadata": {},
   "source": [
    "## 📊 Class Distribution"
   ]
  },
  {
   "cell_type": "code",
   "execution_count": null,
   "id": "dcffc7a8",
   "metadata": {},
   "outputs": [],
   "source": [
    "sns.countplot(x='diagnosis', data=df)\n",
    "plt.title(\"Diagnosis Distribution\")\n",
    "plt.xticks([0, 1], ['Benign', 'Malignant'])\n",
    "plt.show()"
   ]
  },
  {
   "cell_type": "markdown",
   "id": "44afd90f",
   "metadata": {},
   "source": [
    "## 🔗 Correlation Matrix"
   ]
  },
  {
   "cell_type": "code",
   "execution_count": null,
   "id": "ec0cbb48",
   "metadata": {},
   "outputs": [],
   "source": [
    "plt.figure(figsize=(15, 12))\n",
    "sns.heatmap(df.corr(), cmap='coolwarm', annot=False)\n",
    "plt.title(\"Correlation Matrix\")\n",
    "plt.show()"
   ]
  },
  {
   "cell_type": "code",
   "execution_count": null,
   "id": "20365a04",
   "metadata": {},
   "outputs": [],
   "source": [
    "corr_target = df.corr()['diagnosis'].sort_values(ascending=False)\n",
    "corr_target"
   ]
  },
  {
   "cell_type": "markdown",
   "id": "db7d576a",
   "metadata": {},
   "source": [
    "## 📈 Feature Distributions"
   ]
  },
  {
   "cell_type": "code",
   "execution_count": null,
   "id": "629b57be",
   "metadata": {},
   "outputs": [],
   "source": [
    "features = ['radius_mean', 'texture_mean', 'perimeter_mean', 'area_mean', 'smoothness_mean']\n",
    "df[features].hist(bins=15, figsize=(15, 8))\n",
    "plt.suptitle(\"Distribution of Selected Features\")\n",
    "plt.show()"
   ]
  },
  {
   "cell_type": "markdown",
   "id": "ab127665",
   "metadata": {},
   "source": [
    "## 🔍 Pairplot"
   ]
  },
  {
   "cell_type": "code",
   "execution_count": null,
   "id": "babf83e1",
   "metadata": {},
   "outputs": [],
   "source": [
    "sns.pairplot(df[['diagnosis', 'radius_mean', 'texture_mean', 'area_mean', 'smoothness_mean']], hue='diagnosis')"
   ]
  },
  {
   "cell_type": "markdown",
   "id": "a0409996",
   "metadata": {},
   "source": [
    "## 📦 Boxplot Example"
   ]
  },
  {
   "cell_type": "code",
   "execution_count": null,
   "id": "0e33b536",
   "metadata": {},
   "outputs": [],
   "source": [
    "plt.figure(figsize=(10, 6))\n",
    "sns.boxplot(x='diagnosis', y='radius_mean', data=df)\n",
    "plt.title(\"Radius Mean by Diagnosis\")"
   ]
  },
  {
   "cell_type": "markdown",
   "id": "77907b50",
   "metadata": {},
   "source": [
    "## ✅ Conclusion\n",
    "- Malignant tumors tend to have higher values in several features.\n",
    "- Features like `radius_mean`, `perimeter_mean`, and `area_mean` are highly correlated.\n",
    "- Minimal class imbalance makes logistic regression an appropriate model choice."
   ]
  }
 ],
 "metadata": {
  "language_info": {
   "name": "python"
  }
 },
 "nbformat": 4,
 "nbformat_minor": 5
}
